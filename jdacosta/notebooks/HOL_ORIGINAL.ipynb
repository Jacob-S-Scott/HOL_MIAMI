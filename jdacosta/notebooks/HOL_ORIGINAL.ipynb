{
 "cells": [
  {
   "cell_type": "markdown",
   "id": "a676932f-19ee-4012-a540-2543bbe99ee4",
   "metadata": {
    "collapsed": false,
    "name": "cell2"
   },
   "source": [
    "# HOL Setup Notebook\n",
    "Run the following commands to provision the necessary objects for the Snowflake Intelligence HOL"
   ]
  },
  {
   "cell_type": "markdown",
   "id": "22d2233c-e24d-4234-9d49-3dd3a6e28f52",
   "metadata": {
    "collapsed": false,
    "name": "cell4"
   },
   "source": [
    "## Setup User Schema"
   ]
  },
  {
   "cell_type": "code",
   "execution_count": null,
   "id": "3775908f-ca36-4846-8f38-5adca39217f2",
   "metadata": {
    "codeCollapsed": false,
    "collapsed": false,
    "language": "sql",
    "name": "SCHEMA_SETUP"
   },
   "outputs": [],
   "source": [
    "USE ROLE HOL_ADMIN;\n",
    "\n",
    "SET CURRENT_USER = CURRENT_USER();\n",
    "\n",
    "USE DATABASE HOL;\n",
    "CREATE or replace SCHEMA IDENTIFIER($CURRENT_USER);\n",
    "\n",
    "\n",
    "USE ROLE SCHEMA IDENTIFIER($CURRENT_USER);"
   ]
  },
  {
   "cell_type": "markdown",
   "id": "ad8fa26e-6c47-4ae9-8b59-a8e3d54a4a61",
   "metadata": {
    "collapsed": false,
    "name": "cell1"
   },
   "source": [
    "## Setup Unstructured Chunks Table"
   ]
  },
  {
   "cell_type": "code",
   "execution_count": null,
   "id": "d659a194-5dbc-457e-b33e-ac1a96cbb0c0",
   "metadata": {
    "language": "sql",
    "name": "UNSTRUCTURED_SETUP"
   },
   "outputs": [],
   "source": [
    "\n",
    "CREATE OR REPLACE TABLE SEC_FILINGS_CHUNKS (\n",
    "    document_name varchar,\n",
    "    chunk_id varchar,\n",
    "    chunk_text varchar,\n",
    "    document_date date\n",
    ");\n",
    "\n",
    "-- Perform OCR and Chunk Text\n",
    "INSERT INTO SEC_FILINGS_CHUNKS  \n",
    "    with doc_text as (\n",
    "        select\n",
    "            split_part(relative_path,'.',0) as document_name,\n",
    "            AI_PARSE_DOCUMENT (\n",
    "                TO_FILE('@DATA.SEC_FILINGS_STAGE',relative_path),\n",
    "                {'mode': 'OCR' , 'page_split': false}\n",
    "            ):content::varchar as doc_text,\n",
    "            to_date(split_part(document_name,'_',3),'MM-DD-YY') as doc_date\n",
    "        from directory('@DATA.SEC_FILINGS_STAGE')\n",
    "    )\n",
    "    \n",
    "    , chunked as (\n",
    "        select \n",
    "            document_name,\n",
    "            SNOWFLAKE.CORTEX.SPLIT_TEXT_RECURSIVE_CHARACTER (\n",
    "              doc_text,\n",
    "              'none',\n",
    "              500\n",
    "            ) as chunks,\n",
    "            doc_date\n",
    "        from doc_text\n",
    "    )\n",
    "    \n",
    "    , flattened as (\n",
    "        select\n",
    "            document_name,\n",
    "            index as chunk_id,\n",
    "            value::varchar as chunk_text,\n",
    "            doc_date\n",
    "        from chunked,\n",
    "            TABLE(FLATTEN(INPUT => CHUNKS))\n",
    "    )\n",
    "    \n",
    "    SELECT * FROM flattened\n",
    ";\n",
    "\n",
    "SELECT * FROM SEC_FILINGS_CHUNKS;"
   ]
  },
  {
   "cell_type": "markdown",
   "id": "be197b9b-e87c-4b21-8b09-44b1fe527615",
   "metadata": {
    "collapsed": false,
    "name": "cell3"
   },
   "source": [
    "## Create Search Service for RAG"
   ]
  },
  {
   "cell_type": "code",
   "execution_count": null,
   "id": "9a28493b-d0b5-4d0b-853f-dcea35749a58",
   "metadata": {
    "language": "sql",
    "name": "cell5"
   },
   "outputs": [],
   "source": [
    "\n",
    "CREATE CORTEX SEARCH SERVICE IF NOT EXISTS SEC_FILINGS_SEARCH\n",
    "  ON CHUNK_TEXT\n",
    "  ATTRIBUTES DOCUMENT_DATE\n",
    "  WAREHOUSE = SNOWFLAKE_LEARNING_WH\n",
    "  TARGET_LAG = '7 DAYS'\n",
    "  AS (SELECT * FROM SEC_FILINGS_CHUNKS);\n",
    "\n",
    "-- RUN A SAMPLE QUERY\n",
    "SELECT PARSE_JSON(\n",
    "  SNOWFLAKE.CORTEX.SEARCH_PREVIEW(\n",
    "    'SEC_FILINGS_SEARCH',\n",
    "    '{\n",
    "      \"query\": \"NVIDIA revenue guidance\",\n",
    "      \"columns\": [\"DOCUMENT_NAME\", \"CHUNK_ID\", \"DOCUMENT_DATE\", \"CHUNK_TEXT\"],\n",
    "      \"limit\": 5\n",
    "    }'\n",
    "  )\n",
    ")['results'] AS results;"
   ]
  },
  {
   "cell_type": "markdown",
   "id": "17767969-a908-470d-a900-2c09da97d9de",
   "metadata": {
    "collapsed": false,
    "name": "cell6"
   },
   "source": [
    "## Create a Custom Tool for the Agent\n",
    "Just a dummy stock price tool, in reality this could easily be replaced with an API call using an external access integration."
   ]
  },
  {
   "cell_type": "code",
   "execution_count": null,
   "id": "7e410619-0d8c-41b7-87a9-897337893a08",
   "metadata": {
    "language": "sql",
    "name": "cell7"
   },
   "outputs": [],
   "source": [
    "-- Dummy Tool\n",
    "CREATE OR REPLACE PROCEDURE GET_STOCK_PRICE(TICKER STRING, EXCHANGE STRING)\n",
    "RETURNS FLOAT\n",
    "LANGUAGE SQL\n",
    "AS\n",
    "$$\n",
    "DECLARE\n",
    "    stock_price FLOAT;\n",
    "BEGIN\n",
    "    stock_price := 185.88;\n",
    "    RETURN stock_price;\n",
    "END;\n",
    "$$;\n",
    "\n",
    "call get_stock_price('nvda','nyse');"
   ]
  },
  {
   "cell_type": "markdown",
   "id": "b83dc052-ce86-46a7-ae27-f7eae63b5362",
   "metadata": {
    "collapsed": false,
    "name": "cell8"
   },
   "source": [
    "## Verify Existing Price History Data\n",
    "For structured data we will be using a preloaded table made available for the user."
   ]
  },
  {
   "cell_type": "code",
   "execution_count": null,
   "id": "df421e8e-a3ee-483b-a162-a4074366b313",
   "metadata": {
    "language": "sql",
    "name": "cell9"
   },
   "outputs": [],
   "source": [
    "CREATE OR REPLACE TABLE STOCK_PRICE_HISTORY CLONE DATA.STOCK_PRICE_HISTORY;\n",
    "\n",
    "SELECT * FROM STOCK_PRICE_HISTORY;"
   ]
  },
  {
   "cell_type": "markdown",
   "id": "112c411b-4ce4-44f4-aee1-1cfca51e7868",
   "metadata": {
    "collapsed": false,
    "name": "cell10"
   },
   "source": [
    "## Create the Semantic View\n",
    "\n",
    "This could also be done a number of different ways, mainly through Snowsight. If you have YAML already provisioned in this case you can simply use the system function as shown below.\n",
    "\n",
    "NOTE: Make sure to change schema and database in the yaml below before creation to HOL.<YOUR_USER>"
   ]
  },
  {
   "cell_type": "code",
   "execution_count": null,
   "id": "5a8356ec-230d-4dbf-8540-68e21bcf246c",
   "metadata": {
    "language": "sql",
    "name": "cell12"
   },
   "outputs": [],
   "source": [
    "CALL SYSTEM$CREATE_SEMANTIC_VIEW_FROM_YAML(\n",
    "  'HOL.' || $CURRENT_USER,\n",
    "  $$\n",
    "name: stock_prices_semantic_model\n",
    "description: Semantic model for historical daily stock prices (OHLCV) with dividends and splits.\n",
    "custom_instructions: >\n",
    "  If the user doesn't specify a date filter, apply a default filter for the last year.\n",
    "  Round numeric outputs to 2 decimal places.\n",
    "  If the user asks for 'returns' or 'change', interpret as percentage change over\n",
    "  the selected period (e.g., (last_close - first_close) / first_close * 100).\n",
    "\n",
    "tables:\n",
    "  - name: stock_prices\n",
    "    description: Daily OHLCV per ticker.\n",
    "    base_table:\n",
    "      database: HOL\n",
    "      schema: jacob_scott\n",
    "      table: STOCK_PRICE_HISTORY\n",
    "\n",
    "    time_dimensions:\n",
    "      - name: date\n",
    "        synonyms: [\"trading date\", \"day\"]\n",
    "        description: Trading day (no time component).\n",
    "        expr: DATE\n",
    "        data_type: DATE\n",
    "        unique: false\n",
    "\n",
    "    dimensions:\n",
    "      - name: ticker\n",
    "        synonyms: [\"symbol\"]\n",
    "        description: Stock ticker symbol (e.g., NVDA).\n",
    "        expr: TICKER\n",
    "        data_type: TEXT\n",
    "        unique: false\n",
    "        is_enum: true\n",
    "\n",
    "    facts:\n",
    "      - name: open_price\n",
    "        synonyms: [\"open\"]\n",
    "        description: Opening price for the day.\n",
    "        expr: OPEN_PRICE\n",
    "        data_type: NUMBER\n",
    "\n",
    "      - name: high_price\n",
    "        synonyms: [\"high\"]\n",
    "        description: Intraday high price.\n",
    "        expr: HIGH_PRICE\n",
    "        data_type: NUMBER\n",
    "\n",
    "      - name: low_price\n",
    "        synonyms: [\"low\"]\n",
    "        description: Intraday low price.\n",
    "        expr: LOW_PRICE\n",
    "        data_type: NUMBER\n",
    "\n",
    "      - name: close_price\n",
    "        synonyms: [\"close\", \"closing price\"]\n",
    "        description: Closing price for the day.\n",
    "        expr: CLOSE_PRICE\n",
    "        data_type: NUMBER\n",
    "\n",
    "      - name: volume\n",
    "        synonyms: [\"shares traded\"]\n",
    "        description: Number of shares traded during the day.\n",
    "        expr: VOLUME\n",
    "        data_type: NUMBER\n",
    "\n",
    "      - name: dividends\n",
    "        synonyms: [\"dividend\"]\n",
    "        description: Cash dividends paid on the day.\n",
    "        expr: DIVIDENDS\n",
    "        data_type: NUMBER\n",
    "\n",
    "      - name: stock_splits\n",
    "        synonyms: [\"split ratio\"]\n",
    "        description: Stock split ratio for the day (e.g., 4.0 == 4-for-1).\n",
    "        expr: STOCK_SPLITS\n",
    "        data_type: NUMBER\n",
    "\n",
    "    metrics:\n",
    "      - name: avg_close_price\n",
    "        synonyms: [\"average close\"]\n",
    "        description: Average closing price over the selected period.\n",
    "        expr: AVG(CLOSE_PRICE)\n",
    "\n",
    "      - name: max_close_price\n",
    "        synonyms: [\"record close\", \"all-time high close\"]\n",
    "        description: Maximum closing price over the selected period.\n",
    "        expr: MAX(CLOSE_PRICE)\n",
    "\n",
    "      - name: min_close_price\n",
    "        synonyms: [\"lowest close\"]\n",
    "        description: Minimum closing price over the selected period.\n",
    "        expr: MIN(CLOSE_PRICE)\n",
    "\n",
    "      - name: total_volume\n",
    "        synonyms: [\"sum volume\", \"trading volume\"]\n",
    "        description: Total shares traded over the selected period.\n",
    "        expr: SUM(VOLUME)\n",
    "\n",
    "    filters:\n",
    "      - name: last_30_days\n",
    "        synonyms: [\"past month\"]\n",
    "        description: Filter to the last 30 calendar days.\n",
    "        expr: \"DATE >= DATEADD('day', -30, CURRENT_DATE())\"\n",
    "\n",
    "      - name: last_year\n",
    "        synonyms: [\"past year\", \"last 12 months\"]\n",
    "        description: Filter to the last 365 days.\n",
    "        expr: \"DATE >= DATEADD('day', -365, CURRENT_DATE())\"\n",
    "\n",
    "verified_queries:\n",
    "  - name: average_close_by_month\n",
    "    question: What was the average closing price by month for NVDA this year?\n",
    "    sql: >\n",
    "      SELECT DATE_TRUNC('month', DATE) AS month,\n",
    "             AVG(CLOSE_PRICE) AS avg_close\n",
    "      FROM SNOWFLAKE_INTELIGENCE_HOL.DATA.STOCK_PRICE_HISTORY\n",
    "      WHERE TICKER = 'NVDA'\n",
    "        AND DATE >= DATE_TRUNC('year', CURRENT_DATE())\n",
    "      GROUP BY 1\n",
    "      ORDER BY 1\n",
    "\n",
    "  - name: total_volume_last_30_days\n",
    "    question: How many shares traded for AAPL in the last 30 days?\n",
    "    sql: >\n",
    "      SELECT SUM(VOLUME) AS total_volume\n",
    "      FROM SNOWFLAKE_INTELIGENCE_HOL.DATA.STOCK_PRICE_HISTORY\n",
    "      WHERE TICKER = 'AAPL'\n",
    "        AND DATE >= DATEADD('day', -30, CURRENT_DATE())\n",
    "  $$\n",
    "  -- Omit third parameter or set to FALSE to create the view\n",
    ");"
   ]
  },
  {
   "cell_type": "markdown",
   "id": "4977c199-9949-4182-a87a-08fce4a3d636",
   "metadata": {
    "collapsed": false,
    "name": "cell11"
   },
   "source": [
    "## Configure Cortex Agent\n",
    "\n",
    "Now that we have all the pieces in place for the agent to pull context from, it's time to create the agent. The rest of the process will be done in Snowsight. Follow the steps below to complete the agent creation.\n",
    "\n",
    "\n",
    "### Step-by-Step Guide\n",
    "1. Create the Agent \n",
    "    - Go to AI & ML > Agents\n",
    "    - Select \"Create Agent\"\n",
    "    - Enter agent name and description\n",
    "2. Add Cortex Search Service\n",
    "    - Select \"Tools\" > \"Cortex Search Services\" > \"+ Add\"\n",
    "    - Select your existing Cortex Search service\n",
    "    - Enter chunk_id as ID column and document_name as title column.\n",
    "    - Enter name and description for the search service\n",
    "    - Click \"Add\"\n",
    "3. Add Cortex Analyst Tool (Using Semantic Model)\n",
    "    - Select \"Tools\" > \"Cortex Analyst\" > \"+ Add\"\n",
    "    - Enter name for the semantic model tool\n",
    "    - Select the semantic view\n",
    "    - Choose warehouse for query execution\n",
    "    - Set query timeout (seconds)\n",
    "    - Add description\n",
    "    - Click \"Add\"\n",
    "4. Add Custom Tools\n",
    "    - Select \"Tools\" > \"Custom Tools\" > \"+ Add\"\n",
    "    - Leave resource type as procedure\n",
    "    - Select existing stored procedure\n",
    "    - Configure parameters (name, type, description, required status)\n",
    "    - Select warehouse for execution (leave as default)\n",
    "    - Add tool description and optionally argument descriptions\n",
    "    - Click \"Add\"\n",
    "5. Add Custom Prompt/Instructions\n",
    "    - In the agent configuration, add custom instructions for:\n",
    "        * Response behavior\n",
    "        * Orchestration logic\n",
    "        * System prompts\n",
    "6. Save and Test\n",
    "    - Click \"Save\" to create the agent\n",
    "    - Test with sample questions\n",
    "    - Monitor agent performance and user feedback"
   ]
  }
 ],
 "metadata": {
  "kernelspec": {
   "display_name": "Streamlit Notebook",
   "name": "streamlit"
  },
  "lastEditStatus": {
   "authorEmail": "JACOB_SCOTT@HAKKODA.IO",
   "authorId": "1349062298599",
   "authorName": "JACOB_SCOTT",
   "lastEditTime": 1760476187802,
   "notebookId": "afczpt5pxj2i6j4plfes",
   "sessionId": "9ab5a5dd-2c27-48b5-8489-627d859ee5bb"
  }
 },
 "nbformat": 4,
 "nbformat_minor": 5
}
