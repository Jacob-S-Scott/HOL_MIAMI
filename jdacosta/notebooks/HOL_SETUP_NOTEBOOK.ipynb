{
 "metadata": {
  "kernelspec": {
   "display_name": "Streamlit Notebook",
   "name": "streamlit"
  },
  "lastEditStatus": {
   "notebookId": "l7kabcaougygu2xv6cd5",
   "authorId": "2198174342313",
   "authorName": "JDACOSTA",
   "authorEmail": "john.dacosta+hol-20251016@snowflake.com",
   "sessionId": "41624edd-54e7-481f-8a6b-916faf393fc7",
   "lastEditTime": 1760623400191
  }
 },
 "nbformat_minor": 5,
 "nbformat": 4,
 "cells": [
  {
   "cell_type": "code",
   "id": "3775908f-ca36-4846-8f38-5adca39217f2",
   "metadata": {
    "language": "python",
    "name": "cell1"
   },
   "source": "# Import python packages\nimport streamlit as st\nimport pandas as pd\n\n# We can also use Snowpark for our analyses!\nfrom snowflake.snowpark.context import get_active_session\nsession = get_active_session()\n",
   "execution_count": null,
   "outputs": []
  },
  {
   "cell_type": "code",
   "id": "3379fd59-14b6-48d0-a83d-ac567086a04e",
   "metadata": {
    "language": "sql",
    "name": "cell2"
   },
   "outputs": [],
   "source": "\n\nuse role sysadmin;\ncreate database if not exists hol;\n\n",
   "execution_count": null
  },
  {
   "cell_type": "code",
   "id": "898f4504-ac07-4fcf-bfbb-ba4b1faa478d",
   "metadata": {
    "language": "sql",
    "name": "cell3",
    "codeCollapsed": false
   },
   "outputs": [],
   "source": "use role accountadmin;\n\nCREATE ROLE if not exists  HOL_USER;\nCREATE ROLE  if not exists HOL_ADMIN;\n\n\n\n-- GRANT ROLE HOL_USER TO ROLE SYSADMIN;\n-- GRANT ROLE HOL_ADMIN TO ROLE SYSADMIN;\n\n\n\n",
   "execution_count": null
  },
  {
   "cell_type": "code",
   "id": "4cc7a6c0-016d-4583-8b85-8c273abf4ac7",
   "metadata": {
    "language": "sql",
    "name": "cell4",
    "codeCollapsed": false
   },
   "outputs": [],
   "source": "use role accountadmin;\ngrant ownership on database hol to role hol_admin;",
   "execution_count": null
  },
  {
   "cell_type": "code",
   "id": "70e295b4-87d7-4b20-815b-6ad8365cdceb",
   "metadata": {
    "language": "sql",
    "name": "cell5",
    "codeCollapsed": false
   },
   "outputs": [],
   "source": "grant usage on warehouse compute_wh to role hol_admin;",
   "execution_count": null
  },
  {
   "cell_type": "code",
   "id": "fea925a4-a224-44b7-9055-6487be41816e",
   "metadata": {
    "language": "sql",
    "name": "cell6"
   },
   "outputs": [],
   "source": "-- CREATE USER HOL_USER_01PASSWORD=HOL_USER_01@HOL! DEFAULT_WAREHOUSE=compute_wh DEFAULT_ROLE=HOL_ADMIN DEFAULT_DATABASE=HOL;",
   "execution_count": null
  },
  {
   "cell_type": "code",
   "id": "b8ee5033-ce7a-4286-8ce0-9947f884ed35",
   "metadata": {
    "language": "sql",
    "name": "cell7"
   },
   "outputs": [],
   "source": "-- CREATE USER IF NOT EXISTS HOL_USER_01 PASSWORD='HOL_USER_01@HOL!' DEFAULT_WAREHOUSE=compute_wh DEFAULT_ROLE=HOL_ADMIN;\n-- CREATE USER IF NOT EXISTS HOL_USER_02 PASSWORD='HOL_USER_02@HOL!' DEFAULT_WAREHOUSE=compute_wh DEFAULT_ROLE=HOL_ADMIN;\n-- CREATE USER IF NOT EXISTS HOL_USER_03 PASSWORD='HOL_USER_03@HOL!' DEFAULT_WAREHOUSE=compute_wh DEFAULT_ROLE=HOL_ADMIN;\n-- CREATE USER IF NOT EXISTS HOL_USER_04 PASSWORD='HOL_USER_04@HOL!' DEFAULT_WAREHOUSE=compute_wh DEFAULT_ROLE=HOL_ADMIN;\n-- CREATE USER IF NOT EXISTS HOL_USER_05 PASSWORD='HOL_USER_05@HOL!' DEFAULT_WAREHOUSE=compute_wh DEFAULT_ROLE=HOL_ADMIN;\n-- CREATE USER IF NOT EXISTS HOL_USER_06 PASSWORD='HOL_USER_06@HOL!' DEFAULT_WAREHOUSE=compute_wh DEFAULT_ROLE=HOL_ADMIN;\n-- CREATE USER IF NOT EXISTS HOL_USER_07 PASSWORD='HOL_USER_07@HOL!' DEFAULT_WAREHOUSE=compute_wh DEFAULT_ROLE=HOL_ADMIN;\n-- CREATE USER IF NOT EXISTS HOL_USER_08 PASSWORD='HOL_USER_08@HOL!' DEFAULT_WAREHOUSE=compute_wh DEFAULT_ROLE=HOL_ADMIN;\n-- CREATE USER IF NOT EXISTS HOL_USER_09 PASSWORD='HOL_USER_09@HOL!' DEFAULT_WAREHOUSE=compute_wh DEFAULT_ROLE=HOL_ADMIN;\n-- CREATE USER IF NOT EXISTS HOL_USER_10 PASSWORD='HOL_USER_10@HOL!' DEFAULT_WAREHOUSE=compute_wh DEFAULT_ROLE=HOL_ADMIN;\n-- CREATE USER IF NOT EXISTS HOL_USER_11 PASSWORD='HOL_USER_11@HOL!' DEFAULT_WAREHOUSE=compute_wh DEFAULT_ROLE=HOL_ADMIN;\n-- CREATE USER IF NOT EXISTS HOL_USER_12 PASSWORD='HOL_USER_12@HOL!' DEFAULT_WAREHOUSE=compute_wh DEFAULT_ROLE=HOL_ADMIN;\n-- CREATE USER IF NOT EXISTS HOL_USER_13 PASSWORD='HOL_USER_13@HOL!' DEFAULT_WAREHOUSE=compute_wh DEFAULT_ROLE=HOL_ADMIN;\n-- CREATE USER IF NOT EXISTS HOL_USER_14 PASSWORD='HOL_USER_14@HOL!' DEFAULT_WAREHOUSE=compute_wh DEFAULT_ROLE=HOL_ADMIN;\n-- CREATE USER IF NOT EXISTS HOL_USER_15 PASSWORD='HOL_USER_15@HOL!' DEFAULT_WAREHOUSE=compute_wh DEFAULT_ROLE=HOL_ADMIN;\n-- CREATE USER IF NOT EXISTS HOL_USER_16 PASSWORD='HOL_USER_16@HOL!' DEFAULT_WAREHOUSE=compute_wh DEFAULT_ROLE=HOL_ADMIN;\n-- CREATE USER IF NOT EXISTS HOL_USER_17 PASSWORD='HOL_USER_17@HOL!' DEFAULT_WAREHOUSE=compute_wh DEFAULT_ROLE=HOL_ADMIN;\n-- CREATE USER IF NOT EXISTS HOL_USER_18 PASSWORD='HOL_USER_18@HOL!' DEFAULT_WAREHOUSE=compute_wh DEFAULT_ROLE=HOL_ADMIN;\n-- CREATE USER IF NOT EXISTS HOL_USER_19 PASSWORD='HOL_USER_19@HOL!' DEFAULT_WAREHOUSE=compute_wh DEFAULT_ROLE=HOL_ADMIN;\n-- CREATE USER IF NOT EXISTS HOL_USER_20 PASSWORD='HOL_USER_20@HOL!' DEFAULT_WAREHOUSE=compute_wh DEFAULT_ROLE=HOL_ADMIN;\n-- CREATE USER IF NOT EXISTS HOL_USER_21 PASSWORD='HOL_USER_21@HOL!' DEFAULT_WAREHOUSE=compute_wh DEFAULT_ROLE=HOL_ADMIN;\n-- CREATE USER IF NOT EXISTS HOL_USER_22 PASSWORD='HOL_USER_22@HOL!' DEFAULT_WAREHOUSE=compute_wh DEFAULT_ROLE=HOL_ADMIN;\n-- CREATE USER IF NOT EXISTS HOL_USER_23 PASSWORD='HOL_USER_23@HOL!' DEFAULT_WAREHOUSE=compute_wh DEFAULT_ROLE=HOL_ADMIN;\n-- CREATE USER IF NOT EXISTS HOL_USER_24 PASSWORD='HOL_USER_24@HOL!' DEFAULT_WAREHOUSE=compute_wh DEFAULT_ROLE=HOL_ADMIN;\n-- CREATE USER IF NOT EXISTS HOL_USER_25 PASSWORD='HOL_USER_25@HOL!' DEFAULT_WAREHOUSE=compute_wh DEFAULT_ROLE=HOL_ADMIN;\n-- CREATE USER IF NOT EXISTS HOL_USER_26 PASSWORD='HOL_USER_26@HOL!' DEFAULT_WAREHOUSE=compute_wh DEFAULT_ROLE=HOL_ADMIN;\n-- CREATE USER IF NOT EXISTS HOL_USER_27 PASSWORD='HOL_USER_27@HOL!' DEFAULT_WAREHOUSE=compute_wh DEFAULT_ROLE=HOL_ADMIN;\n-- CREATE USER IF NOT EXISTS HOL_USER_28 PASSWORD='HOL_USER_28@HOL!' DEFAULT_WAREHOUSE=compute_wh DEFAULT_ROLE=HOL_ADMIN;\n-- CREATE USER IF NOT EXISTS HOL_USER_29 PASSWORD='HOL_USER_29@HOL!' DEFAULT_WAREHOUSE=compute_wh DEFAULT_ROLE=HOL_ADMIN;\n-- CREATE USER IF NOT EXISTS HOL_USER_30 PASSWORD='HOL_USER_30@HOL!' DEFAULT_WAREHOUSE=compute_wh DEFAULT_ROLE=HOL_ADMIN;\n-- CREATE USER IF NOT EXISTS HOL_USER_31 PASSWORD='HOL_USER_31@HOL!' DEFAULT_WAREHOUSE=compute_wh DEFAULT_ROLE=HOL_ADMIN;\n-- CREATE USER IF NOT EXISTS HOL_USER_32 PASSWORD='HOL_USER_32@HOL!' DEFAULT_WAREHOUSE=compute_wh DEFAULT_ROLE=HOL_ADMIN;\n-- CREATE USER IF NOT EXISTS HOL_USER_33 PASSWORD='HOL_USER_33@HOL!' DEFAULT_WAREHOUSE=compute_wh DEFAULT_ROLE=HOL_ADMIN;\n-- CREATE USER IF NOT EXISTS HOL_USER_34 PASSWORD='HOL_USER_34@HOL!' DEFAULT_WAREHOUSE=compute_wh DEFAULT_ROLE=HOL_ADMIN;\n-- CREATE USER IF NOT EXISTS HOL_USER_35 PASSWORD='HOL_USER_35@HOL!' DEFAULT_WAREHOUSE=compute_wh DEFAULT_ROLE=HOL_ADMIN;\n-- CREATE USER IF NOT EXISTS HOL_USER_36 PASSWORD='HOL_USER_36@HOL!' DEFAULT_WAREHOUSE=compute_wh DEFAULT_ROLE=HOL_ADMIN;\n-- CREATE USER IF NOT EXISTS HOL_USER_37 PASSWORD='HOL_USER_37@HOL!' DEFAULT_WAREHOUSE=compute_wh DEFAULT_ROLE=HOL_ADMIN;\n-- CREATE USER IF NOT EXISTS HOL_USER_38 PASSWORD='HOL_USER_38@HOL!' DEFAULT_WAREHOUSE=compute_wh DEFAULT_ROLE=HOL_ADMIN;\n-- CREATE USER IF NOT EXISTS HOL_USER_39 PASSWORD='HOL_USER_39@HOL!' DEFAULT_WAREHOUSE=compute_wh DEFAULT_ROLE=HOL_ADMIN;\n-- CREATE USER IF NOT EXISTS HOL_USER_40 PASSWORD='HOL_USER_40@HOL!' DEFAULT_WAREHOUSE=compute_wh DEFAULT_ROLE=HOL_ADMIN;\n-- CREATE USER IF NOT EXISTS HOL_USER_9999 PASSWORD='HOL_USER_9999@HOL!' DEFAULT_WAREHOUSE=compute_wh DEFAULT_ROLE=HOL_ADMIN;\n-- CREATE USER IF NOT EXISTS HOL_USER_9998 PASSWORD='HOL_USER_9998@HOL!' DEFAULT_WAREHOUSE=compute_wh DEFAULT_ROLE=HOL_ADMIN;\n-- CREATE USER IF NOT EXISTS HOL_USER_9997 PASSWORD='HOL_USER_9997@HOL!' DEFAULT_WAREHOUSE=compute_wh DEFAULT_ROLE=HOL_ADMIN;\n-- CREATE USER IF NOT EXISTS HOL_USER_9996 PASSWORD='HOL_USER_9996@HOL!' DEFAULT_WAREHOUSE=compute_wh DEFAULT_ROLE=HOL_ADMIN;",
   "execution_count": null
  },
  {
   "cell_type": "code",
   "id": "0ef17f83-b3c3-4217-8f2e-9be7ab9ee4aa",
   "metadata": {
    "language": "sql",
    "name": "cell8",
    "codeCollapsed": false
   },
   "outputs": [],
   "source": "-- GRANT ROLE HOL_ADMIN TO USER HOL_USER_01;\n-- GRANT ROLE HOL_ADMIN TO USER HOL_USER_02;\n-- GRANT ROLE HOL_ADMIN TO USER HOL_USER_03;\n-- GRANT ROLE HOL_ADMIN TO USER HOL_USER_04;\n-- GRANT ROLE HOL_ADMIN TO USER HOL_USER_05;\n-- GRANT ROLE HOL_ADMIN TO USER HOL_USER_06;\n-- GRANT ROLE HOL_ADMIN TO USER HOL_USER_07;\n-- GRANT ROLE HOL_ADMIN TO USER HOL_USER_08;\n-- GRANT ROLE HOL_ADMIN TO USER HOL_USER_09;\n-- GRANT ROLE HOL_ADMIN TO USER HOL_USER_10;\n-- GRANT ROLE HOL_ADMIN TO USER HOL_USER_11;\n-- GRANT ROLE HOL_ADMIN TO USER HOL_USER_12;\n-- GRANT ROLE HOL_ADMIN TO USER HOL_USER_13;\n-- GRANT ROLE HOL_ADMIN TO USER HOL_USER_14;\n-- GRANT ROLE HOL_ADMIN TO USER HOL_USER_15;\n-- GRANT ROLE HOL_ADMIN TO USER HOL_USER_16;\n-- GRANT ROLE HOL_ADMIN TO USER HOL_USER_17;\n-- GRANT ROLE HOL_ADMIN TO USER HOL_USER_18;\n-- GRANT ROLE HOL_ADMIN TO USER HOL_USER_19;\n-- GRANT ROLE HOL_ADMIN TO USER HOL_USER_20;\n-- GRANT ROLE HOL_ADMIN TO USER HOL_USER_21;\n-- GRANT ROLE HOL_ADMIN TO USER HOL_USER_22;\n-- GRANT ROLE HOL_ADMIN TO USER HOL_USER_23;\n-- GRANT ROLE HOL_ADMIN TO USER HOL_USER_24;\n-- GRANT ROLE HOL_ADMIN TO USER HOL_USER_25;\n-- GRANT ROLE HOL_ADMIN TO USER HOL_USER_26;\n-- GRANT ROLE HOL_ADMIN TO USER HOL_USER_27;\n-- GRANT ROLE HOL_ADMIN TO USER HOL_USER_28;\n-- GRANT ROLE HOL_ADMIN TO USER HOL_USER_29;\n-- GRANT ROLE HOL_ADMIN TO USER HOL_USER_30;\n-- GRANT ROLE HOL_ADMIN TO USER HOL_USER_31;\n-- GRANT ROLE HOL_ADMIN TO USER HOL_USER_32;\n-- GRANT ROLE HOL_ADMIN TO USER HOL_USER_33;\n-- GRANT ROLE HOL_ADMIN TO USER HOL_USER_34;\n-- GRANT ROLE HOL_ADMIN TO USER HOL_USER_35;\n-- GRANT ROLE HOL_ADMIN TO USER HOL_USER_36;\n-- GRANT ROLE HOL_ADMIN TO USER HOL_USER_37;\n-- GRANT ROLE HOL_ADMIN TO USER HOL_USER_38;\n-- GRANT ROLE HOL_ADMIN TO USER HOL_USER_39;\n-- GRANT ROLE HOL_ADMIN TO USER HOL_USER_40;\n-- GRANT ROLE HOL_ADMIN TO USER HOL_USER_9999;\n-- GRANT ROLE HOL_ADMIN TO USER HOL_USER_9998;\n-- GRANT ROLE HOL_ADMIN TO USER HOL_USER_9997;\n-- GRANT ROLE HOL_ADMIN TO USER HOL_USER_9996;",
   "execution_count": null
  },
  {
   "cell_type": "code",
   "id": "c63319a7-6b4a-40f8-b8e0-e8b86e4dd847",
   "metadata": {
    "language": "python",
    "name": "cell12"
   },
   "outputs": [],
   "source": "def executesql(sql):\n    result = {}\n    result[\"sql\"] = f\"{sql}\"\n    try:\n        session.sql(sql).collect()\n        result[\"error\"]= \"\"        \n    except Exception as ex:\n        result[\"error\"]= ex        \n    return result",
   "execution_count": null
  },
  {
   "cell_type": "code",
   "id": "1f4043d9-465f-4391-ad5d-60ff9c815c9f",
   "metadata": {
    "language": "python",
    "name": "cell9"
   },
   "outputs": [],
   "source": "\n\n    \n# executesql(\"\"\"use role sysadmin;\"\"\")\n\n# executesql(\"\"\"use warehouse COMPUTE_WH;\"\"\")\n\n# executesql(\"\"\"use database HOL;;\"\"\")\n\n\n# USE ROLE HOL_ADMIN;\n# SET CURRENT_USER = CURRENT_USER();\n# USE DATABASE HOL;\n# CREATE or REPLACE SCHEMA IDENTIFIER($CURRENT_USER);\n\n\n# CREATE USER IF NOT EXISTS HOL_USER_01 PASSWORD='HOL_USER_01@HOL!' DEFAULT_WAREHOUSE=COMPUTE_WH DEFAULT_ROLE=HOL_ADMIN DEFAULT_DATABASE=HOL DEFAULT_SCHEMA=HOL_USER_01;\n\n# CREATE USER IF NOT EXISTS HOL_USER_9999 PASSWORD='HOL_USER_9999@HOL!' DEFAULT_WAREHOUSE=COMPUTE_WH DEFAULT_ROLE=HOL_ADMIN;\n\n\n# GRANT ROLE HOL_ADMIN TO USER HOL_USER_01;\n",
   "execution_count": null
  },
  {
   "cell_type": "code",
   "id": "175ec3d9-6fe6-4d30-ba7b-65cc2e89e4c1",
   "metadata": {
    "language": "sql",
    "name": "cell11"
   },
   "outputs": [],
   "source": "use role hol_admin;\nuse database hol;\n-- show schemas in database;",
   "execution_count": null
  },
  {
   "cell_type": "code",
   "id": "ab8b2c26-95ec-4e37-abc0-406ce77c69be",
   "metadata": {
    "language": "python",
    "name": "create_schemas_admin"
   },
   "outputs": [],
   "source": "# session.sql(\"\"\"USE ROLE HOL_ADMIN;\"\"\").collect()\n# session.sql(\"\"\"USE DATABASE HOL;\"\"\").collect()\n# for i in range(1, 99):\n#     warehouse=\"COMPUTE_WH\"\n#     # print username zerolengthed to 2 digits\n#     username = f\"HOL_USER_{str(i).zfill(2)}\"\n#     # print(username)\n#     # print password\n#     password = f\"HOL_USER_{str(i).zfill(2)}@HOL!\"\n#     # print(password)\n#     # print role\n#     role = f\"HOL_USER_{str(i).zfill(2)}_ROLE\"\n#     schema = f\"HOL.HOL_USER_{str(i).zfill(2)}\"\n#     sql = f\"\"\"CREATE SCHEMA IF NOT EXISTS {schema};\"\"\"\n#     print(sql)\n#     session.sql(sql).collect()",
   "execution_count": null
  },
  {
   "cell_type": "code",
   "id": "31763b88-a3cc-433f-96d8-bd0af41deac1",
   "metadata": {
    "language": "python",
    "name": "create_schemas"
   },
   "outputs": [],
   "source": "session.sql(\"\"\"USE ROLE HOL_ADMIN;\"\"\").collect()\nsession.sql(\"\"\"USE DATABASE HOL;\"\"\").collect()\nfor i in range(1, 100):\n    warehouse=\"COMPUTE_WH\"\n    # print username zerolengthed to 2 digits\n    username = f\"HOL_USER_{str(i).zfill(2)}\"\n    # print(username)\n    # print password\n    password = f\"HOL_USER_{str(i).zfill(2)}@HOL!\"\n    # print(password)\n    # print role\n    role = f\"HOL_USER_{str(i).zfill(2)}_ROLE\"\n    schema = f\"HOL.HOL_USER_{str(i).zfill(2)}\"\n    sql = f\"\"\"CREATE SCHEMA IF NOT EXISTS {schema};\"\"\"\n    print(sql)\n    session.sql(sql).collect()",
   "execution_count": null
  },
  {
   "cell_type": "code",
   "id": "a5d20b94-8f08-49d1-8e12-0d987e63c1b6",
   "metadata": {
    "language": "python",
    "name": "create_users",
    "codeCollapsed": false
   },
   "outputs": [],
   "source": "session.sql(\"\"\"USE ROLE ACCOUNTADMIN;\"\"\").collect()\nsession.sql(\"\"\"USE DATABASE HOL;\"\"\").collect()\nfor i in range(1, 100):\n    warehouse=\"COMPUTE_WH\"\n    # print username zerolengthed to 2 digits\n    username = f\"HOL_USER_{str(i).zfill(2)}\"\n    # print(username)\n    # print password\n    password = f\"HOL_USER_{str(i).zfill(2)}@HOL!\"\n    # print(password)\n    # print role\n    role = f\"HOL_USER_{str(i).zfill(2)}_ROLE\"\n    schema = f\"HOL.HOL_USER_{str(i).zfill(2)}\"\n    sql = f\"\"\"CREATE SCHEMA IF NOT EXISTS {schema};\"\"\"\n    print(sql)\n    # session.sql(sql).collect()\n    # print(role)\n        \n    sql = f\"\"\"CREATE USER IF NOT EXISTS {username} PASSWORD='{password}' DEFAULT_WAREHOUSE={warehouse} DEFAULT_ROLE=HOL_ADMIN DEFAULT_NAMESPACE=HOL.{schema};\"\"\"\n    print(sql)\n    session.sql(sql).collect()",
   "execution_count": null
  },
  {
   "cell_type": "code",
   "id": "17d46dad-20c5-4ae7-8ff8-8e7de99c8186",
   "metadata": {
    "language": "python",
    "name": "set_default_schema_and_db",
    "codeCollapsed": false
   },
   "outputs": [],
   "source": "session.sql(\"\"\"USE ROLE ACCOUNTADMIN;\"\"\").collect()\n\nfor i in range(1, 100):\n    warehouse=\"COMPUTE_WH\"\n    # print username zerolengthed to 2 digits\n    username = f\"HOL_USER_{str(i).zfill(2)}\"\n    # print(username)\n    # print password\n    password = f\"HOL_USER_{str(i).zfill(2)}@HOL!\"\n    # print(password)\n    # print role\n    role = f\"HOL_USER_{str(i).zfill(2)}_ROLE\"\n    schema = f\"HOL.HOL_USER_{str(i).zfill(2)}\"\n    sql = f\"\"\"ALTER USER IF EXISTS {username} SET DEFAULT_WAREHOUSE={warehouse} DEFAULT_ROLE=HOL_ADMIN DEFAULT_NAMESPACE={schema};\"\"\"\n    print(sql)\n    session.sql(sql).collect()",
   "execution_count": null
  },
  {
   "cell_type": "code",
   "id": "3dbabb3d-d2a6-4370-9986-fc53368088eb",
   "metadata": {
    "language": "python",
    "name": "grantRoles",
    "codeCollapsed": false
   },
   "outputs": [],
   "source": "session.sql(\"\"\"USE ROLE SECURITYADMIN;\"\"\").collect()\n\nfor i in range(1, 100):\n    warehouse=\"COMPUTE_WH\"\n    # print username zerolengthed to 2 digits\n    username = f\"HOL_USER_{str(i).zfill(2)}\"\n    # print(username)\n    # print password\n    password = f\"HOL_USER_{str(i).zfill(2)}@HOL!\"\n    # print(password)\n    # print role\n    role = f\"HOL_USER_{str(i).zfill(2)}_ROLE\"\n    schema = f\"HOL.HOL_USER_{str(i).zfill(2)}\"\n    sql = f\"\"\"GRANT ROLE HOL_ADMIN TO USER {username} ;\"\"\"\n    print(sql)\n    session.sql(sql).collect()",
   "execution_count": null
  },
  {
   "cell_type": "code",
   "id": "18f55a63-ac0c-4435-8f9b-f95f4a7431ad",
   "metadata": {
    "language": "python",
    "name": "listwarehouses"
   },
   "outputs": [],
   "source": "dfw = pd.DataFrame(session.sql(\"SHOW WAREHOUSES\").collect())\ndfw",
   "execution_count": null
  },
  {
   "cell_type": "code",
   "id": "a4494c1c-72d4-43cb-8b74-af922d3fa684",
   "metadata": {
    "language": "python",
    "name": "mcwWarehouses",
    "codeCollapsed": false
   },
   "outputs": [],
   "source": "dfwJson = json.loads(dfw.to_json(orient=\"records\"))\nfor item in dfwJson:\n    # print(item)\n    wh= item[\"name\"]\n    # print(wh)\n    sql = f\"\"\"alter warehouse {wh} SET MIN_CLUSTER_COUNT=1  MAX_CLUSTER_COUNT=20 AUTO_SUSPEND=90;\"\"\"\n    print(sql)\n    session.sql(sql).collect()\n    ",
   "execution_count": null
  },
  {
   "cell_type": "code",
   "id": "b8245513-0eb4-4be8-b617-0fa048332fcd",
   "metadata": {
    "language": "sql",
    "name": "showUsers",
    "codeCollapsed": false
   },
   "outputs": [],
   "source": "show users like 'HOL%';",
   "execution_count": null
  },
  {
   "cell_type": "code",
   "id": "caae29ad-1422-4240-8ada-99671cf5a06d",
   "metadata": {
    "language": "sql",
    "name": "showSchemas"
   },
   "outputs": [],
   "source": "show schemas in database hol;",
   "execution_count": null
  },
  {
   "cell_type": "code",
   "id": "b3f05d7a-c36d-40c2-86de-ae71345c69e4",
   "metadata": {
    "language": "sql",
    "name": "showWarehouses",
    "codeCollapsed": false
   },
   "outputs": [],
   "source": "show warehouses",
   "execution_count": null
  },
  {
   "cell_type": "code",
   "id": "11782622-1457-4ff2-9797-0ce2e0cb9fda",
   "metadata": {
    "language": "sql",
    "name": "cell13",
    "codeCollapsed": false
   },
   "outputs": [],
   "source": "",
   "execution_count": null
  }
 ]
}