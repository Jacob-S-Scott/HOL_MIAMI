{
  "cells": [
    {
      "cell_type": "markdown",
      "metadata": {},
      "source": [
        "# Enhanced News Processing with Snowflake Integration\n",
        "\n",
        "This notebook demonstrates the enhanced news processing functionality that:\n",
        "1. Downloads news data for multiple tickers\n",
        "2. Validates and manages Snowflake table schema\n",
        "3. Uses staging tables to prevent duplicate records\n",
        "4. Provides comprehensive batch processing capabilities\n",
        "\n",
        "## Features:\n",
        "- **Schema Management**: Automatically creates or updates the `stock_news` table\n",
        "- **Deduplication**: Uses staging tables with MERGE operations\n",
        "- **Batch Processing**: Handles multiple tickers efficiently\n",
        "- **Error Handling**: Comprehensive error handling and logging\n",
        "- **Data Validation**: Ensures data integrity throughout the process\n"
      ]
    },
    {
      "cell_type": "code",
      "execution_count": null,
      "metadata": {},
      "outputs": [],
      "source": [
        "# Import required libraries\n",
        "import pandas as pd\n",
        "import logging\n",
        "from datetime import datetime\n",
        "import sys\n",
        "import os\n",
        "\n",
        "# Add current directory to path for imports\n",
        "sys.path.append('.')\n",
        "\n",
        "from enhanced_news_processor import EnhancedNewsProcessor, download_and_load_news_batch\n",
        "from app import StockDataDownloader\n",
        "from snowflake_connection import SnowflakeConnectionManager\n",
        "\n",
        "# Setup logging\n",
        "logging.basicConfig(\n",
        "    level=logging.INFO,\n",
        "    format='%(asctime)s - %(name)s - %(levelname)s - %(message)s'\n",
        ")\n",
        "logger = logging.getLogger(__name__)\n",
        "\n",
        "print(\"✓ Imports successful\")\n",
        "print(f\"Current working directory: {os.getcwd()}\")\n"
      ]
    }
  ],
  "metadata": {
    "language_info": {
      "name": "python"
    }
  },
  "nbformat": 4,
  "nbformat_minor": 2
}
